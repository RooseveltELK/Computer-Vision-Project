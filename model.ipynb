{
 "cells": [
  {
   "cell_type": "code",
   "execution_count": 343,
   "id": "f539a5af-e49f-4c97-9c89-367e97d6686b",
   "metadata": {},
   "outputs": [],
   "source": [
    "import os\n",
    "import numpy as np\n",
    "import matplotlib.pyplot as plt\n",
    "import cv2\n",
    "import h5py\n",
    "from tqdm import tqdm\n",
    "from scipy.stats import multivariate_normal\n",
    "from scipy.special import gamma,digamma,gammaln\n",
    "from scipy.optimize import fminbound\n",
    "from numpy.linalg import inv, det\n",
    "from PIL import Image\n",
    "from sklearn.metrics import roc_curve\n",
    "from sklearn.metrics import auc\n",
    "from sklearn.preprocessing import StandardScaler\n",
    "from sklearn.decomposition import PCA"
   ]
  },
  {
   "cell_type": "markdown",
   "id": "b287dcd5-da12-49c4-9795-7273b5045a01",
   "metadata": {},
   "source": [
    "## Useful Functions"
   ]
  },
  {
   "cell_type": "code",
   "execution_count": 239,
   "id": "2783ea99-e26f-4293-8e82-72e63b4aa67e",
   "metadata": {},
   "outputs": [],
   "source": [
    "# calculate false positive, false negative and misclassification\n",
    "def compute_fp_fn_misc(predict_label,y_test):\n",
    "    true_positive = 0\n",
    "    false_positive = 0\n",
    "    true_negative = 0\n",
    "    false_negative = 0\n",
    "    n = len(predict_label)\n",
    "    for i in range(n): \n",
    "        if y_test[i] == predict_label[i] == 1:\n",
    "            true_positive += 1\n",
    "        if predict_label[i] == 1 and y_test[i] != predict_label[i]:\n",
    "            false_positive += 1\n",
    "        if y_test[i] == predict_label[i] == 0:\n",
    "            true_negative += 1\n",
    "        if predict_label[i] == 0 and y_test[i] != predict_label[i]:\n",
    "            false_negative += 1\n",
    "    \n",
    "    false_positive_rate = false_positive/(false_positive+true_negative)\n",
    "    false_negative_rate = false_negative/(true_positive+false_negative)\n",
    "    misclassification_rate = (false_positive + false_negative)/n\n",
    "    \n",
    "    return false_positive_rate, false_negative_rate, misclassification_rate"
   ]
  },
  {
   "cell_type": "code",
   "execution_count": 240,
   "id": "dd10d8a4-8b12-41fa-8fa7-ce1f7138cfda",
   "metadata": {},
   "outputs": [],
   "source": [
    "# plot ROC curve\n",
    "def plot_roc_curve(y_test, predict_score, model):\n",
    "    fpr, tpr, thresholds = roc_curve(y_test, predict_score)\n",
    "    roc_auc = auc(fpr, tpr)\n",
    "\n",
    "    plt.plot(fpr, tpr, color=\"darkorange\",\n",
    "    lw=2, label='ROC curve (area = %0.2f)' %roc_auc)\n",
    "    plt.plot([0, 1], [0, 1], color=\"navy\", lw=2, linestyle=\"--\")\n",
    "    plt.xlim([0.0, 1.0])\n",
    "    plt.ylim([0.0, 1.0])\n",
    "    plt.xlabel('False Positive Rate')\n",
    "    plt.ylabel('True Positive Rate')\n",
    "    plt.title('ROC Curve')\n",
    "    plt.legend(loc='best')\n",
    "    plt.savefig(f'./model/{model}/{model}_ROC.png')"
   ]
  },
  {
   "cell_type": "code",
   "execution_count": null,
   "id": "171892b8-b2af-4288-a568-f93b5f66efb0",
   "metadata": {},
   "outputs": [],
   "source": [
    "# PCA to reduce feature size\n",
    "def preprocessing(data, data_size):\n",
    "    pca = PCA(n_components=data_size)\n",
    "    pca.fit(data)\n",
    "    pca_data = pca.transform(data)\n",
    "    std_scaler = StandardScaler()\n",
    "    std_scaler.fit(pca_data)\n",
    "    std_data = std_scaler.transform(pca_data)\n",
    "    return pca, std_data"
   ]
  },
  {
   "cell_type": "markdown",
   "id": "0c3fc514-4e8f-4cb0-9ee0-ef5519a8b9d3",
   "metadata": {},
   "source": [
    "## Model 1: Single Gaussian model "
   ]
  },
  {
   "cell_type": "code",
   "execution_count": 15,
   "id": "eaef8e98-4a1f-4dd4-b11d-0ce8e3632f2a",
   "metadata": {},
   "outputs": [
    {
     "name": "stdout",
     "output_type": "stream",
     "text": [
      "(1200, 1) (1200, 1200)\n",
      "(1200, 1) (1200, 1200)\n"
     ]
    }
   ],
   "source": [
    "# read train dataset. first 1000 images are face images. \n",
    "with h5py.File('./dataset/train_dataset.h5', 'r') as h:\n",
    "    data = np.array(h.get('data'))\n",
    "    label = np.array(h.get('label'))\n",
    "    X_train = data\n",
    "    y_train = label\n",
    "\n",
    "# calculate the mean and variance of face images and noface images\n",
    "# and we have the normal distribution for both classes\n",
    "face_mean = np.mean(X_train[:1000,:], axis=0)\n",
    "face_cov_diag = np.diagonal(np.cov(X_train[:1000,:],bias=True, rowvar=False)) # it is the array of the main diagonal entries\n",
    "face_cov = np.diag(face_cov_diag)\n",
    "\n",
    "noface_mean = np.mean(X_train[1000:,:], axis=0)\n",
    "noface_cov_diag = np.diagonal(np.cov(X_train[1000:,:],bias=True, rowvar=False)) # it is the array of the main diagonal entries\n",
    "noface_cov = np.diag(noface_cov_diag)\n",
    "\n",
    "# add additional axis to make the array vector form\n",
    "\n",
    "face_mean = np.expand_dims(face_mean, axis=1)\n",
    "noface_mean = np.expand_dims(noface_mean, axis=1)\n",
    "\n",
    "print(face_mean.shape, face_cov.shape)\n",
    "print(noface_mean.shape, noface_cov.shape)"
   ]
  },
  {
   "cell_type": "code",
   "execution_count": 33,
   "id": "9b37122f-a4f5-4b66-b38b-7125b7f6001c",
   "metadata": {},
   "outputs": [
    {
     "name": "stdout",
     "output_type": "stream",
     "text": [
      "(200, 1200, 1)\n"
     ]
    },
    {
     "name": "stderr",
     "output_type": "stream",
     "text": [
      "C:\\Users\\hj396\\AppData\\Local\\Temp/ipykernel_26264/4184007270.py:19: RuntimeWarning: overflow encountered in exp\n",
      "  pre_score = 1/(np.exp(-face_likelihood)+1)\n"
     ]
    },
    {
     "name": "stdout",
     "output_type": "stream",
     "text": [
      "[1 1 1 1 1 0 0 1 1 1 1 1 1 1 1 1 1 1 1 1 0 1 1 1 1 0 1 1 1 1 1 1 1 1 0 1 1\n",
      " 1 1 1 1 0 1 1 0 1 1 1 1 1 1 1 1 1 1 1 1 0 1 1 1 1 0 1 0 1 0 1 1 1 1 1 1 1\n",
      " 1 1 0 1 1 1 1 1 0 1 1 1 1 1 1 1 1 1 1 1 1 1 1 0 1 1 0 0 0 1 1 0 0 0 1 1 0\n",
      " 1 1 0 1 1 1 0 0 0 0 0 1 0 0 0 0 0 1 1 0 0 0 0 0 0 0 0 0 1 0 0 1 0 0 0 0 0\n",
      " 0 1 0 0 0 1 0 0 0 0 1 0 1 1 1 0 0 0 1 0 0 0 0 0 1 0 1 0 0 0 1 0 1 1 1 0 0\n",
      " 0 0 1 0 0 1 0 0 0 0 0 0 1 0 0]\n",
      "[1.00000000e+000 1.00000000e+000 1.00000000e+000 1.00000000e+000\n",
      " 1.00000000e+000 1.26250231e-172 8.71953784e-304 1.00000000e+000\n",
      " 1.00000000e+000 1.00000000e+000 1.00000000e+000 1.00000000e+000\n",
      " 1.00000000e+000 1.00000000e+000 1.00000000e+000 1.00000000e+000\n",
      " 1.00000000e+000 1.00000000e+000 1.00000000e+000 1.00000000e+000\n",
      " 9.62166949e-147 1.00000000e+000 1.00000000e+000 1.00000000e+000\n",
      " 1.00000000e+000 1.22437195e-033 1.00000000e+000 1.00000000e+000\n",
      " 1.00000000e+000 1.00000000e+000 1.00000000e+000 1.00000000e+000\n",
      " 1.00000000e+000 1.00000000e+000 0.00000000e+000 1.00000000e+000\n",
      " 1.00000000e+000 1.00000000e+000 1.00000000e+000 1.00000000e+000\n",
      " 1.00000000e+000 8.18592762e-127 1.00000000e+000 1.00000000e+000\n",
      " 2.49358933e-040 1.00000000e+000 1.00000000e+000 1.00000000e+000\n",
      " 1.00000000e+000 1.00000000e+000 1.00000000e+000 1.00000000e+000\n",
      " 1.00000000e+000 1.00000000e+000 1.00000000e+000 1.00000000e+000\n",
      " 1.00000000e+000 0.00000000e+000 1.00000000e+000 1.00000000e+000\n",
      " 1.00000000e+000 1.00000000e+000 3.99614447e-058 1.00000000e+000\n",
      " 6.17389706e-301 1.00000000e+000 8.05388805e-075 1.00000000e+000\n",
      " 1.00000000e+000 1.00000000e+000 1.00000000e+000 1.00000000e+000\n",
      " 1.00000000e+000 1.00000000e+000 1.00000000e+000 1.00000000e+000\n",
      " 1.86003465e-216 1.00000000e+000 1.00000000e+000 1.00000000e+000\n",
      " 1.00000000e+000 1.00000000e+000 2.59229277e-224 1.00000000e+000\n",
      " 1.00000000e+000 1.00000000e+000 1.00000000e+000 1.00000000e+000\n",
      " 1.00000000e+000 1.00000000e+000 1.00000000e+000 1.00000000e+000\n",
      " 1.00000000e+000 1.00000000e+000 1.00000000e+000 1.00000000e+000\n",
      " 1.00000000e+000 3.04372266e-095 1.00000000e+000 1.00000000e+000\n",
      " 0.00000000e+000 6.73387102e-289 8.27158105e-170 1.00000000e+000\n",
      " 1.00000000e+000 8.97387855e-238 0.00000000e+000 2.70868339e-101\n",
      " 1.00000000e+000 1.00000000e+000 0.00000000e+000 1.00000000e+000\n",
      " 1.00000000e+000 5.87107728e-305 1.00000000e+000 1.00000000e+000\n",
      " 1.00000000e+000 2.81818840e-004 0.00000000e+000 2.39782448e-053\n",
      " 2.49195590e-036 0.00000000e+000 1.00000000e+000 6.36487002e-292\n",
      " 0.00000000e+000 4.32746814e-298 1.02394232e-104 1.53713391e-030\n",
      " 1.00000000e+000 1.00000000e+000 8.98560271e-258 0.00000000e+000\n",
      " 4.40919048e-104 0.00000000e+000 8.31875530e-032 2.85705127e-219\n",
      " 8.46974984e-036 0.00000000e+000 3.36006166e-186 1.00000000e+000\n",
      " 7.01041636e-252 0.00000000e+000 1.00000000e+000 0.00000000e+000\n",
      " 3.28246083e-214 4.00324149e-141 0.00000000e+000 2.95347740e-151\n",
      " 0.00000000e+000 1.00000000e+000 5.15994147e-061 0.00000000e+000\n",
      " 0.00000000e+000 1.00000000e+000 3.33574937e-257 0.00000000e+000\n",
      " 0.00000000e+000 1.03798486e-176 6.71980217e-001 0.00000000e+000\n",
      " 1.00000000e+000 1.00000000e+000 1.00000000e+000 0.00000000e+000\n",
      " 0.00000000e+000 0.00000000e+000 1.00000000e+000 8.68531074e-155\n",
      " 0.00000000e+000 0.00000000e+000 0.00000000e+000 0.00000000e+000\n",
      " 1.00000000e+000 4.60833984e-231 1.00000000e+000 2.73688631e-137\n",
      " 0.00000000e+000 0.00000000e+000 1.00000000e+000 0.00000000e+000\n",
      " 1.00000000e+000 1.00000000e+000 1.00000000e+000 0.00000000e+000\n",
      " 1.01734680e-127 0.00000000e+000 0.00000000e+000 1.00000000e+000\n",
      " 4.15625835e-122 4.36823232e-036 1.00000000e+000 6.63017539e-077\n",
      " 0.00000000e+000 7.84122281e-170 0.00000000e+000 0.00000000e+000\n",
      " 0.00000000e+000 1.00000000e+000 0.00000000e+000 0.00000000e+000]\n"
     ]
    }
   ],
   "source": [
    "# read test dataset\n",
    "with h5py.File('./dataset/test_dataset.h5', 'r') as h:\n",
    "    data = np.array(h.get('data'))\n",
    "    label = np.array(h.get('label'))\n",
    "    X_test = data\n",
    "    y_test = label\n",
    "\n",
    "X_test = np.expand_dims(X_test, axis=2)\n",
    "print(X_test.shape)\n",
    "\n",
    "\n",
    "# from Bayes' rule p(w=1|x) = p(x|w=1)/(p(x|w=1) + p(x|w=0)) and p(w=0) = p(w=1) = 1/2, we calculate log(p(x|w=1)) - log(p(x|w=0))\n",
    "predict_label = []\n",
    "predict_score = []\n",
    "for x in X_test:\n",
    "    face_likelihood = np.dot(np.dot((x-noface_mean).T,inv(noface_cov)),(x-noface_mean)) - np.dot(np.dot((x-face_mean).T,inv(face_cov)),(x-face_mean)) + np.sum(np.log(noface_cov_diag)) - np.sum(np.log(face_cov_diag))\n",
    "    pre_label = 1 if face_likelihood > 0 else 0\n",
    "    predict_label.append(pre_label)\n",
    "    pre_score = 1/(np.exp(-face_likelihood)+1)\n",
    "    predict_score.append(pre_score)\n",
    "    \n",
    "predict_label = np.array(predict_label).reshape((len(X_test),))\n",
    "predict_score = np.array(predict_score).reshape((len(X_test),))\n",
    "print(predict_label)\n",
    "print(predict_score)"
   ]
  },
  {
   "cell_type": "code",
   "execution_count": 6,
   "id": "78f30a40-8ff2-4b44-ae34-4b7177ba47d0",
   "metadata": {},
   "outputs": [
    {
     "data": {
      "image/png": "[encoded data removed]",
      "text/plain": [
       "<Figure size 720x2880 with 4 Axes>"
      ]
     },
     "metadata": {
      "needs_background": "light"
     },
     "output_type": "display_data"
    }
   ],
   "source": [
    "# visualize estimated mean and covariance matrix for face and non-face images\n",
    "dim = int(np.sqrt(X_test.shape[1]/3)) # 3 represents 3 layers of RGB image\n",
    "face_mean_image = face_mean.reshape((dim,dim,3)) * 255.0 / np.max(face_mean)\n",
    "face_cov_image = face_cov_diag.reshape((dim,dim,3)) * 255.0 / np.max(face_cov_diag)\n",
    "noface_mean_image = noface_mean.reshape((dim,dim,3)) * 255.0 / np.max(noface_mean)\n",
    "noface_cov_image = noface_cov_diag.reshape((dim,dim,3)) * 255.0 / np.max(noface_cov_diag)\n",
    "\n",
    "cv2.imwrite('./model/SingleGaussian/face_mean_image.jpg', face_mean_image)\n",
    "cv2.imwrite('./model/SingleGaussian/face_cov_image.jpg', face_cov_image)\n",
    "\n",
    "cv2.imwrite('./model/SingleGaussian/noface_mean_image.jpg', noface_mean_image)\n",
    "cv2.imwrite('./model/SingleGaussian/noface_cov_image.jpg', noface_cov_image)\n",
    "\n",
    "fig, ax = plt.subplots(1, 4, figsize=(10, 40))\n",
    "ax[0].imshow(Image.open('./model/SingleGaussian/face_mean_image.jpg'))\n",
    "ax[0].title.set_text('Face Mean Image')\n",
    "ax[1].imshow(Image.open('./model/SingleGaussian/face_cov_image.jpg'))\n",
    "ax[1].title.set_text('Face Cov Image')\n",
    "ax[2].imshow(Image.open('./model/SingleGaussian/noface_mean_image.jpg'))\n",
    "ax[2].title.set_text('Noface Mean Image')\n",
    "ax[3].imshow(Image.open('./model/SingleGaussian/noface_cov_image.jpg'))\n",
    "ax[3].title.set_text('Noface Cov Image')\n",
    "plt.show()"
   ]
  },
  {
   "cell_type": "code",
   "execution_count": 7,
   "id": "9c04cc96-b88c-4d2a-8166-2376639bcb5b",
   "metadata": {},
   "outputs": [
    {
     "name": "stdout",
     "output_type": "stream",
     "text": [
      "False Positive Rate: 0.3\n",
      "False Negative Rate: 0.14\n",
      "Misclassification Rate: 0.22\n"
     ]
    }
   ],
   "source": [
    "false_positive_rate, false_negative_rate, misclassification_rate = compute_fp_fn_misc(predict_label,y_test)\n",
    "\n",
    "print('False Positive Rate: {}'.format(false_positive_rate))\n",
    "print('False Negative Rate: {}'.format(false_negative_rate))\n",
    "print('Misclassification Rate: {}'.format(misclassification_rate))"
   ]
  },
  {
   "cell_type": "code",
   "execution_count": 34,
   "id": "1590273a-3858-49dd-afad-ab3b1f566839",
   "metadata": {},
   "outputs": [
    {
     "data": {
      "image/png": "[encoded data removed]",
      "text/plain": [
       "<Figure size 432x288 with 1 Axes>"
      ]
     },
     "metadata": {
      "needs_background": "light"
     },
     "output_type": "display_data"
    }
   ],
   "source": [
    "# Plot ROC Curve\n",
    "\n",
    "plot_roc_curve(y_test, predict_score, 'SingleGaussian')"
   ]
  },
  {
   "cell_type": "markdown",
   "id": "298feb15-4a0f-408b-9d89-f82707a3f731",
   "metadata": {},
   "source": [
    "## Model 2: Mixture of Gaussian Model"
   ]
  },
  {
   "cell_type": "markdown",
   "id": "30bbc367-23aa-4298-baa6-b9b9807bb07b",
   "metadata": {},
   "source": [
    "Since the feature is 1200 and the dataset size is 1000, directly using multivariate_normal() method leads to singular covariance matrix. We use PCA to decrease the number of features to 100 to reduce the dimension and well define the covariance matrix."
   ]
  },
  {
   "cell_type": "code",
   "execution_count": 450,
   "id": "4afe4907-8c5f-40f6-90c0-d067518d9a28",
   "metadata": {},
   "outputs": [],
   "source": [
    "no_component = 5\n",
    "data_size = 100"
   ]
  },
  {
   "cell_type": "code",
   "execution_count": 460,
   "id": "0efc697c-6bce-40a4-a983-c31fc2171acc",
   "metadata": {},
   "outputs": [
    {
     "name": "stdout",
     "output_type": "stream",
     "text": [
      "(2000, 100) (200, 100)\n"
     ]
    }
   ],
   "source": [
    "# read train dataset. first 1000 images are face images. \n",
    "with h5py.File('./dataset/train_dataset.h5', 'r') as h:\n",
    "    data = np.array(h.get('data'))\n",
    "    label = np.array(h.get('label'))\n",
    "    X_train = data\n",
    "    y_train = label\n",
    "    \n",
    "# read test dataset\n",
    "with h5py.File('./dataset/test_dataset.h5', 'r') as h:\n",
    "    data = np.array(h.get('data'))\n",
    "    label = np.array(h.get('label'))\n",
    "    X_test = data\n",
    "    y_test = label\n",
    "    \n",
    "# # prepocess the data\n",
    "# pca_train, X_train = preprocessing(X_train, data_size)\n",
    "# pca_test, X_test = preprocessing(X_test, data_size)\n",
    "# prepocess the data\n",
    "pca_train1, X_train1 = preprocessing(X_train[:1000], data_size)\n",
    "pca_train2, X_train2 = preprocessing(X_train[1000:], data_size)\n",
    "pca_test, X_test = preprocessing(X_test, data_size)\n",
    "X_train = np.concatenate((X_train1,X_train2),axis=0)\n",
    "print(X_train.shape, X_test.shape)"
   ]
  },
  {
   "cell_type": "code",
   "execution_count": 461,
   "id": "ef9f83cd-035f-40c4-897d-c7556d985d60",
   "metadata": {},
   "outputs": [],
   "source": [
    "from sklearn.mixture import GaussianMixture\n",
    "\n",
    "# by default we assume 5 components, get the trained mean, covariance matrix of each Gaussian model and weights to these models\n",
    "gm_face = GaussianMixture(n_components=no_component, random_state=0).fit(X_train[:1000])\n",
    "face_weights = gm_face.weights_\n",
    "face_mean = gm_face.means_\n",
    "face_cov = gm_face.covariances_\n",
    "\n",
    "gm_noface = GaussianMixture(n_components=no_component, random_state=0).fit(X_train[1000:])\n",
    "noface_weights = gm_noface.weights_\n",
    "noface_mean = gm_noface.means_\n",
    "noface_cov = gm_noface.covariances_"
   ]
  },
  {
   "cell_type": "code",
   "execution_count": 462,
   "id": "a0948a95-9a16-4b75-abae-f4ed9b9f1ec1",
   "metadata": {},
   "outputs": [],
   "source": [
    "likelihood_f = np.zeros((X_test.shape[0], no_component))\n",
    "likelihood_nf = np.zeros((X_test.shape[0], no_component))\n",
    "for i in range(no_component):\n",
    "    distribution_face = multivariate_normal(\n",
    "        mean=face_mean[i], \n",
    "        cov=face_cov[i], allow_singular=True)\n",
    "    likelihood_f[:,i] = distribution_face.pdf(X_test)\n",
    "    \n",
    "    distribution_noface = multivariate_normal(\n",
    "        mean=noface_mean[i], \n",
    "        cov=noface_cov[i], allow_singular=True)\n",
    "    likelihood_nf[:,i] = distribution_noface.pdf(X_test)\n",
    "    \n",
    "likelihood_face = np.dot(likelihood_f, face_weights)\n",
    "likelihood_noface = np.dot(likelihood_nf, noface_weights)"
   ]
  },
  {
   "cell_type": "code",
   "execution_count": 466,
   "id": "5f94ef23-501e-4c91-a48a-db672598e746",
   "metadata": {},
   "outputs": [],
   "source": [
    "predict_label = []\n",
    "predict_score = []\n",
    "for i in range(X_test.shape[0]):\n",
    "    pre_label = 1 if likelihood_face[i] - likelihood_noface[i] < 0 else 0\n",
    "    predict_label.append(pre_label)\n",
    "    pre_score = likelihood_noface[i]/(likelihood_face[i] + likelihood_noface[i])\n",
    "    predict_score.append(pre_score)"
   ]
  },
  {
   "cell_type": "code",
   "execution_count": 467,
   "id": "27e3c33e-c12c-41c5-a9f3-563f5d8ad4a7",
   "metadata": {},
   "outputs": [
    {
     "name": "stdout",
     "output_type": "stream",
     "text": [
      "False Positive Rate: 0.44\n",
      "False Negative Rate: 0.1\n",
      "Misclassification Rate: 0.27\n"
     ]
    }
   ],
   "source": [
    "false_positive_rate, false_negative_rate, misclassification_rate = compute_fp_fn_misc(predict_label,y_test)\n",
    "\n",
    "print('False Positive Rate: {}'.format(false_positive_rate))\n",
    "print('False Negative Rate: {}'.format(false_negative_rate))\n",
    "print('Misclassification Rate: {}'.format(misclassification_rate))"
   ]
  },
  {
   "cell_type": "code",
   "execution_count": 468,
   "id": "cc8ef003-b88b-497c-b724-d4ad47898e4a",
   "metadata": {},
   "outputs": [
    {
     "data": {
      "image/png": "[encoded data removed]",
      "text/plain": [
       "<Figure size 432x288 with 1 Axes>"
      ]
     },
     "metadata": {
      "needs_background": "light"
     },
     "output_type": "display_data"
    }
   ],
   "source": [
    "# Plot ROC Curve\n",
    "\n",
    "plot_roc_curve(y_test, predict_score, 'GaussianMixture')"
   ]
  },
  {
   "cell_type": "code",
   "execution_count": 469,
   "id": "11fef978-cba0-47e3-b62a-8dee5bd28b1d",
   "metadata": {},
   "outputs": [],
   "source": [
    "# visualize estimated mean and covariance matrix for face and non-face images\n",
    "dim = 20\n",
    "face_mean_comb = (np.dot(pca_train1.components_.T, np.dot(face_mean.T, face_weights)) + pca_train1.mean_).reshape((dim,dim,3))\n",
    "face_mean_comb =  face_mean_comb * 255.0 / np.max(face_mean_comb)\n",
    "\n",
    "face_cov_comb = np.zeros((face_cov.shape[1],face_cov.shape[2]))\n",
    "for k in range(no_component):\n",
    "    face_cov_comb += face_cov[k] * face_weights[k]\n",
    "face_cov_comb = (np.dot(pca_train1.components_.T, np.diagonal(face_cov_comb)) + pca_train1.mean_).reshape((dim,dim,3))\n",
    "face_cov_comb = face_cov_comb * 255.0 / np.max(face_cov_comb)\n",
    "\n",
    "noface_mean_comb = (np.dot(pca_train2.components_.T, np.dot(noface_mean.T, noface_weights)) + pca_train2.mean_).reshape((dim,dim,3))\n",
    "noface_mean_comb =  noface_mean_comb * 255.0 / np.max(noface_mean_comb)\n",
    "\n",
    "noface_cov_comb = np.zeros((noface_cov.shape[1],noface_cov.shape[2]))\n",
    "for k in range(no_component):\n",
    "    noface_cov_comb += noface_cov[k] * noface_weights[k]\n",
    "noface_cov_comb = (np.dot(pca_train2.components_.T, np.diagonal(noface_cov_comb)) + pca_train2.mean_).reshape((dim,dim,3))\n",
    "noface_cov_comb = noface_cov_comb * 255.0 / np.max(noface_cov_comb)"
   ]
  },
  {
   "cell_type": "code",
   "execution_count": 470,
   "id": "8326d515-c12b-46a9-a25b-d11219074a40",
   "metadata": {},
   "outputs": [
    {
     "data": {
      "image/png": "[encoded data removed]",
      "text/plain": [
       "<Figure size 720x2880 with 4 Axes>"
      ]
     },
     "metadata": {
      "needs_background": "light"
     },
     "output_type": "display_data"
    }
   ],
   "source": [
    "cv2.imwrite('./model/GaussianMixture/face_mean_image.jpg', face_mean_comb)\n",
    "cv2.imwrite('./model/GaussianMixture/face_cov_image.jpg', face_cov_comb)\n",
    "\n",
    "cv2.imwrite('./model/GaussianMixture/noface_mean_image.jpg', noface_mean_comb)\n",
    "cv2.imwrite('./model/GaussianMixture/noface_cov_image.jpg', noface_cov_comb)\n",
    "\n",
    "fig, ax = plt.subplots(1, 4, figsize=(10, 40))\n",
    "ax[0].imshow(Image.open('./model/GaussianMixture/face_mean_image.jpg'))\n",
    "ax[0].title.set_text('Face Mean Image')\n",
    "ax[1].imshow(Image.open('./model/GaussianMixture/face_cov_image.jpg'))\n",
    "ax[1].title.set_text('Face Cov Image')\n",
    "ax[2].imshow(Image.open('./model/GaussianMixture/noface_mean_image.jpg'))\n",
    "ax[2].title.set_text('Noface Mean Image')\n",
    "ax[3].imshow(Image.open('./model/GaussianMixture/noface_cov_image.jpg'))\n",
    "ax[3].title.set_text('Noface Cov Image')\n",
    "plt.show()"
   ]
  },
  {
   "cell_type": "markdown",
   "id": "bbe4219b-e93f-4aef-a64d-c0555f0476d5",
   "metadata": {},
   "source": [
    "## Model 3: T-distribution Model"
   ]
  },
  {
   "cell_type": "code",
   "execution_count": 523,
   "id": "4fe53797-7b8d-4e46-aa52-703b3aa36163",
   "metadata": {},
   "outputs": [
    {
     "name": "stdout",
     "output_type": "stream",
     "text": [
      "(2000, 100) (200, 100)\n"
     ]
    }
   ],
   "source": [
    "data_size = 100\n",
    "\n",
    "# read train dataset. first 1000 images are face images. \n",
    "with h5py.File('./dataset/train_dataset.h5', 'r') as h:\n",
    "    data = np.array(h.get('data'))\n",
    "    label = np.array(h.get('label'))\n",
    "    X_train = data\n",
    "    y_train = label\n",
    "    \n",
    "# read test dataset\n",
    "with h5py.File('./dataset/test_dataset.h5', 'r') as h:\n",
    "    data = np.array(h.get('data'))\n",
    "    label = np.array(h.get('label'))\n",
    "    X_test = data\n",
    "    y_test = label\n",
    "    \n",
    "# prepocess the data\n",
    "pca_train1, X_train1 = preprocessing(X_train[:1000], data_size)\n",
    "pca_train2, X_train2 = preprocessing(X_train[1000:], data_size)\n",
    "pca_test, X_test = preprocessing(X_test, data_size)\n",
    "X_train = np.concatenate((X_train1,X_train2),axis=0)\n",
    "print(X_train.shape, X_test.shape)"
   ]
  },
  {
   "cell_type": "code",
   "execution_count": 477,
   "id": "16938c22-9beb-47b4-af71-b108abe9373b",
   "metadata": {},
   "outputs": [],
   "source": [
    "def loss_func(v, e_h, e_logh, dim, cov, mean, data):\n",
    "    length = len(e_h)\n",
    "    sum = 0\n",
    "    for i in range(length):\n",
    "        temp = np.dot(np.dot((data[i,:]-mean).T, inv(cov)), (data[i,:]-mean)) * e_h[i]\n",
    "        term1 = 0.5 * (dim * e_logh[i] - dim * np.log(2*np.pi) - np.log(det(cov)) - temp)\n",
    "        term2 = (v/2) * np.log((v/2)) - gammaln((v/2)) + ((v/2) - 1) * e_logh[i] - (v/2) * e_h[i]\n",
    "        sum = sum + term1 + term2\n",
    "    sum = -sum\n",
    "    return sum"
   ]
  },
  {
   "cell_type": "code",
   "execution_count": 478,
   "id": "b993f8c3-f4bd-4c05-a2e3-c3d007490221",
   "metadata": {},
   "outputs": [],
   "source": [
    "class T_distribution():\n",
    "    def __init__(self, data, mean, cov, v):\n",
    "        self.data = data\n",
    "        self.data_size = self.data.shape[0]\n",
    "        self.dimensions = self.data.shape[1]\n",
    "        self.mean = mean\n",
    "        self.cov = cov\n",
    "        self.v = v\n",
    "        self.e_h = np.zeros(self.data_size)\n",
    "        self.e_logh = np.zeros(self.data_size)\n",
    "        \n",
    "    def update_v(self):\n",
    "        v = fminbound(loss_func, 0, 20, args=(self.e_h, self.e_logh, self.dimensions, self.cov, self.mean, self.data)) \n",
    "        return v\n",
    "        \n",
    "    def EM(self):\n",
    "        \n",
    "        # E-step\n",
    "        for col in range(self.data_size): \n",
    "            temp = np.dot(np.dot((self.data[col,:]-self.mean).T, inv(self.cov)), (self.data[col,:]-self.mean))\n",
    "            self.e_h[col] = (self.v+self.dimensions) /(self.v+temp)\n",
    "            self.e_logh[col] = digamma((self.v+self.dimensions)/2) - np.log((self.v+temp)/2)\n",
    "        \n",
    "        # M-step\n",
    "        self.mean = np.sum(np.dot(np.diag(self.e_h), self.data), axis=0)/np.sum(self.e_h)\n",
    "        \n",
    "        numerator = np.zeros((self.dimensions, self.dimensions))\n",
    "        for col in range(self.data_size):\n",
    "            temp = np.outer((self.data[col,:]-self.mean), (self.data[col,:]-self.mean))\n",
    "            numerator += self.e_h[col]*temp\n",
    "        self.cov = numerator/np.sum(self.e_h)\n",
    "        self.cov = np.diag(np.diagonal(self.cov))\n",
    "        self.v = self.update_v()\n",
    "            \n",
    "    def predict(self, data, col):\n",
    "        term1 = gamma((self.v + self.dimensions)/2) / (((self.v * np.pi)** self.dimensions/2) *np.sqrt(det(self.cov))*gamma(self.v/2))                                \n",
    "        term2 = np.dot(np.dot((data[col,:]-self.mean).T,inv(self.cov)), (data[col,:] - self.mean))\n",
    "        term = (1 + term2/self.v)\n",
    "        prob = term1 * pow(term, -(self.v+self.dimensions)/2)\n",
    "        return prob\n",
    "        "
   ]
  },
  {
   "cell_type": "code",
   "execution_count": 479,
   "id": "35ba15fb-e741-48f8-95d4-065fbf9ac2c7",
   "metadata": {},
   "outputs": [
    {
     "name": "stdout",
     "output_type": "stream",
     "text": [
      "(100,) (100, 100) (100,) (100, 100)\n"
     ]
    }
   ],
   "source": [
    "face_mean = np.mean(X_train[:1000], axis=0)\n",
    "face_cov = np.diag(np.diagonal(np.cov(X_train[:1000],bias=True, rowvar=False)))\n",
    "noface_mean = np.mean(X_train[1000:], axis=0)\n",
    "noface_cov = np.diag(np.diagonal(np.cov(X_train[1000:],bias=True, rowvar=False)))\n",
    "print(face_mean.shape,face_cov.shape,noface_mean.shape,noface_cov.shape)"
   ]
  },
  {
   "cell_type": "code",
   "execution_count": 480,
   "id": "85585ff2-8b59-4a7e-b11e-7b28734dba8f",
   "metadata": {},
   "outputs": [
    {
     "name": "stderr",
     "output_type": "stream",
     "text": [
      "100%|████████████████████████████████████████████████████████████████████████████████| 100/100 [15:49<00:00,  9.49s/it]\n"
     ]
    }
   ],
   "source": [
    "iteration = 100\n",
    "\n",
    "t_dist_face = T_distribution(X_train[:1000], face_mean, face_cov, v=2)\n",
    "t_dist_noface = T_distribution(X_train[1000:], noface_mean, noface_cov, v=2)\n",
    "\n",
    "for i in tqdm(range(iteration)):\n",
    "    t_dist_face.EM()\n",
    "    t_dist_noface.EM()"
   ]
  },
  {
   "cell_type": "code",
   "execution_count": 524,
   "id": "cb4c2e04-3d08-4237-aa83-8d8ac02b0fb8",
   "metadata": {},
   "outputs": [],
   "source": [
    "predict_label = []\n",
    "predict_score = []\n",
    "for i in range(X_test.shape[0]):\n",
    "    pre_label = 1 if t_dist_face.predict(X_test,i) - t_dist_noface.predict(X_test,i) > 0 else 0\n",
    "    predict_label.append(pre_label)\n",
    "    pre_score = t_dist_face.predict(X_test,i) /(t_dist_face.predict(X_test,i) + t_dist_noface.predict(X_test,i))\n",
    "    predict_score.append(pre_score)\n"
   ]
  },
  {
   "cell_type": "code",
   "execution_count": 525,
   "id": "86c4222d-9e1f-485f-8e93-19d675ff9721",
   "metadata": {},
   "outputs": [
    {
     "name": "stdout",
     "output_type": "stream",
     "text": [
      "False Positive Rate: 0.0\n",
      "False Negative Rate: 1.0\n",
      "Misclassification Rate: 0.5\n"
     ]
    }
   ],
   "source": [
    "false_positive_rate, false_negative_rate, misclassification_rate = compute_fp_fn_misc(predict_label,y_test)\n",
    "\n",
    "print('False Positive Rate: {}'.format(false_positive_rate))\n",
    "print('False Negative Rate: {}'.format(false_negative_rate))\n",
    "print('Misclassification Rate: {}'.format(misclassification_rate))"
   ]
  },
  {
   "cell_type": "code",
   "execution_count": 526,
   "id": "0baa854e-d35e-47e8-a85d-1ad8be1b86bd",
   "metadata": {},
   "outputs": [
    {
     "data": {
      "image/png": "[encoded data removed]",
      "text/plain": [
       "<Figure size 432x288 with 1 Axes>"
      ]
     },
     "metadata": {
      "needs_background": "light"
     },
     "output_type": "display_data"
    }
   ],
   "source": [
    "# Plot ROC Curve\n",
    "\n",
    "plot_roc_curve(y_test, predict_score, 't-Distribution')"
   ]
  },
  {
   "cell_type": "code",
   "execution_count": 484,
   "id": "e9702e94-ac42-4278-8dea-95c53a4417f7",
   "metadata": {},
   "outputs": [],
   "source": [
    "face_mean = t_dist_face.mean\n",
    "face_cov = t_dist_face.cov\n",
    "noface_mean = t_dist_noface.mean\n",
    "noface_cov = t_dist_noface.cov\n",
    "\n",
    "# visualize estimated mean and covariance matrix for face and non-face images\n",
    "dim = 20\n",
    "face_mean_comb = (np.dot(pca_train1.components_.T, face_mean) + pca_train1.mean_).reshape((dim,dim,3))\n",
    "face_mean_comb =  face_mean_comb * 255.0 / np.max(face_mean_comb)\n",
    "\n",
    "face_cov_comb = (np.dot(pca_train1.components_.T, np.diagonal(face_cov)) + pca_train1.mean_).reshape((dim,dim,3))\n",
    "face_cov_comb = face_cov_comb * 255.0 / np.max(face_cov_comb)\n",
    "\n",
    "noface_mean_comb = (np.dot(pca_train2.components_.T, noface_mean) + pca_train2.mean_).reshape((dim,dim,3))\n",
    "noface_mean_comb =  noface_mean_comb * 255.0 / np.max(noface_mean_comb)\n",
    "\n",
    "noface_cov_comb = (np.dot(pca_train2.components_.T, np.diagonal(noface_cov)) + pca_train2.mean_).reshape((dim,dim,3))\n",
    "noface_cov_comb = noface_cov_comb * 255.0 / np.max(noface_cov_comb)"
   ]
  },
  {
   "cell_type": "code",
   "execution_count": 485,
   "id": "4ba05034-f75e-40f1-9eef-de8625edbeae",
   "metadata": {},
   "outputs": [
    {
     "data": {
      "image/png": "[encoded data removed]",
      "text/plain": [
       "<Figure size 720x2880 with 4 Axes>"
      ]
     },
     "metadata": {
      "needs_background": "light"
     },
     "output_type": "display_data"
    }
   ],
   "source": [
    "cv2.imwrite('./model/t-Distribution/face_mean_image.jpg', face_mean_comb)\n",
    "cv2.imwrite('./model/t-Distribution/face_cov_image.jpg', face_cov_comb)\n",
    "\n",
    "cv2.imwrite('./model/t-Distribution/noface_mean_image.jpg', noface_mean_comb)\n",
    "cv2.imwrite('./model/t-Distribution/noface_cov_image.jpg', noface_cov_comb)\n",
    "\n",
    "fig, ax = plt.subplots(1, 4, figsize=(10, 40))\n",
    "ax[0].imshow(Image.open('./model/t-Distribution/face_mean_image.jpg'))\n",
    "ax[0].title.set_text('Face Mean Image')\n",
    "ax[1].imshow(Image.open('./model/t-Distribution/face_cov_image.jpg'))\n",
    "ax[1].title.set_text('Face Cov Image')\n",
    "ax[2].imshow(Image.open('./model/t-Distribution/noface_mean_image.jpg'))\n",
    "ax[2].title.set_text('Noface Mean Image')\n",
    "ax[3].imshow(Image.open('./model/t-Distribution/noface_cov_image.jpg'))\n",
    "ax[3].title.set_text('Noface Cov Image')\n",
    "plt.show()"
   ]
  },
  {
   "cell_type": "markdown",
   "id": "73db03f1-2552-40d9-aad6-9c0ce3f4eebf",
   "metadata": {},
   "source": [
    "## Model 4: Factor Analyzer"
   ]
  },
  {
   "cell_type": "code",
   "execution_count": 506,
   "id": "104aec3c-a963-49ac-a46a-c3354e422185",
   "metadata": {},
   "outputs": [
    {
     "name": "stdout",
     "output_type": "stream",
     "text": [
      "(2000, 100) (200, 100)\n"
     ]
    }
   ],
   "source": [
    "data_size = 100\n",
    "\n",
    "# read train dataset. first 1000 images are face images. \n",
    "with h5py.File('./dataset/train_dataset.h5', 'r') as h:\n",
    "    data = np.array(h.get('data'))\n",
    "    label = np.array(h.get('label'))\n",
    "    X_train = data\n",
    "    y_train = label\n",
    "    \n",
    "# read test dataset\n",
    "with h5py.File('./dataset/test_dataset.h5', 'r') as h:\n",
    "    data = np.array(h.get('data'))\n",
    "    label = np.array(h.get('label'))\n",
    "    X_test = data\n",
    "    y_test = label\n",
    "    \n",
    "# prepocess the data\n",
    "pca_train, X_train = preprocessing(X_train, data_size)\n",
    "pca_test, X_test = preprocessing(X_test, data_size)\n",
    "print(X_train.shape, X_test.shape)"
   ]
  },
  {
   "cell_type": "code",
   "execution_count": 507,
   "id": "20b66c43-d1d1-43b6-a776-429f112da042",
   "metadata": {},
   "outputs": [],
   "source": [
    "class FactorAnalyzer():\n",
    "    def __init__(self, data, mean, cov, phi, k):\n",
    "        self.data = data\n",
    "        self.data_size = self.data.shape[0]\n",
    "        self.dimensions = self.data.shape[1]\n",
    "        self.mean = mean\n",
    "        self.cov = cov\n",
    "        self.phi = phi\n",
    "        self.K = k\n",
    "        \n",
    "        self.e_h = np.zeros((self.data_size, self.K,))\n",
    "        self.e_hh_t = np.zeros((self.data_size, self.K, self.K,))\n",
    "        \n",
    "    def EM(self):  \n",
    "        \n",
    "        # E-step\n",
    "        term1 = inv(np.dot(np.dot(self.phi.T, inv(self.cov)), self.phi) + np.eye(self.K)) \n",
    "        term2 = np.dot(np.dot(term1, self.phi.T), inv(self.cov))\n",
    "        for i in range(self.data_size):\n",
    "            self.e_h[i] = np.dot(term2, self.data[i,:]-self.mean)\n",
    "            self.e_hh_t[i] = term1 + np.outer(self.e_h[i], self.e_h[i])\n",
    "            \n",
    "        # M-step        \n",
    "        term1 = np.zeros((self.dimensions, self.K))\n",
    "        term2 = np.zeros((self.K, self.K))\n",
    "        for i in range(self.data_size):\n",
    "            term1 += np.outer((self.data[i,:]-self.mean), self.e_h[i])\n",
    "            term2 += self.e_hh_t[i]\n",
    "        self.phi = np.dot(term1, inv(term2))\n",
    "        \n",
    "        term = np.zeros((self.dimensions, self.dimensions))\n",
    "        for i in range(self.data_size):\n",
    "            term += np.outer(self.data[i,:]-self.mean, self.data[i,:]-self.mean) \n",
    "            temp = np.outer(np.dot(self.phi, self.e_h[i]), self.data[i,:] - self.mean)\n",
    "            term = term - temp\n",
    "        term = term/self.data_size\n",
    "        self.cov = np.diag(np.diagonal(term))               \n",
    "            \n",
    "    def predict(self, data, col):\n",
    "        cov = np.dot(self.phi, self.phi.T) + self.cov\n",
    "        term = -0.5 * np.dot(np.dot((data[col,:] - self.mean).T,inv(cov)), (data[col,:] - self.mean))\n",
    "        pdf =  np.exp(term) / (np.sqrt(abs(det(cov))) * ((2 * np.pi) ** (self.dimensions/2)))\n",
    "        return pdf"
   ]
  },
  {
   "cell_type": "code",
   "execution_count": 508,
   "id": "18e5acdd-ee5d-4e73-8a9d-8877dc7e0545",
   "metadata": {},
   "outputs": [
    {
     "name": "stdout",
     "output_type": "stream",
     "text": [
      "(100,) (100, 100) (100,) (100, 100)\n"
     ]
    }
   ],
   "source": [
    "face_mean = np.mean(X_train[:1000], axis=0)\n",
    "face_cov = np.diag(np.diagonal(np.cov(X_train[:1000],bias=True, rowvar=False)))\n",
    "noface_mean = np.mean(X_train[1000:], axis=0)\n",
    "noface_cov = np.diag(np.diagonal(np.cov(X_train[1000:],bias=True, rowvar=False)))\n",
    "print(face_mean.shape,face_cov.shape,noface_mean.shape,noface_cov.shape)"
   ]
  },
  {
   "cell_type": "code",
   "execution_count": 509,
   "id": "d7b12472-59c3-483b-b230-445ce7a648a5",
   "metadata": {},
   "outputs": [],
   "source": [
    "# choose the number of factors\n",
    "K = 50\n",
    "face_phi = np.random.rand(data_size, K)\n",
    "noface_phi = np.random.rand(data_size, K)\n",
    "\n",
    "face_fa = FactorAnalyzer(X_train[:1000], face_mean, face_cov, face_phi, K)\n",
    "noface_fa = FactorAnalyzer(X_train[1000:], noface_mean, noface_cov, noface_phi, K)"
   ]
  },
  {
   "cell_type": "code",
   "execution_count": 510,
   "id": "7acf143b-3063-4b5e-b481-adc022a324f6",
   "metadata": {},
   "outputs": [
    {
     "name": "stderr",
     "output_type": "stream",
     "text": [
      "100%|████████████████████████████████████████████████████████████████████████████████████| 5/5 [00:01<00:00,  4.38it/s]\n"
     ]
    }
   ],
   "source": [
    "iterations = 5\n",
    "for i in tqdm(range(iterations)):\n",
    "    face_fa.EM()\n",
    "    noface_fa.EM()"
   ]
  },
  {
   "cell_type": "code",
   "execution_count": 516,
   "id": "648534d8-81ed-4096-9c87-66c387629c63",
   "metadata": {},
   "outputs": [],
   "source": [
    "face_mean = face_fa.mean\n",
    "face_cov_temp = face_fa.cov\n",
    "face_phi = face_fa.phi\n",
    "face_cov = np.dot(face_phi,face_phi.T) + face_cov_temp\n",
    "\n",
    "noface_mean = noface_fa.mean\n",
    "noface_cov_temp = noface_fa.cov\n",
    "noface_phi = noface_fa.phi\n",
    "noface_cov = np.dot(noface_phi,noface_phi.T) + noface_cov_temp\n",
    "\n",
    "# visualize estimated mean and covariance matrix for face and non-face images\n",
    "dim = 20\n",
    "face_mean_comb = (np.dot(pca_train.components_.T, face_mean) + pca_train.mean_).reshape((dim,dim,3))\n",
    "face_mean_comb =  face_mean_comb * 255.0 / np.max(face_mean_comb)\n",
    "\n",
    "face_cov_comb = (np.dot(pca_train.components_.T, np.diagonal(face_cov)) + pca_train.mean_).reshape((dim,dim,3))\n",
    "face_cov_comb = face_cov_comb * 255.0 / np.max(face_cov_comb)\n",
    "\n",
    "noface_mean_comb = (np.dot(pca_train.components_.T, noface_mean) + pca_train.mean_).reshape((dim,dim,3))\n",
    "noface_mean_comb =  noface_mean_comb * 255.0 / np.max(noface_mean_comb)\n",
    "\n",
    "noface_cov_comb = (np.dot(pca_train.components_.T, np.diagonal(noface_cov)) + pca_train.mean_).reshape((dim,dim,3))\n",
    "noface_cov_comb = noface_cov_comb * 255.0 / np.max(noface_cov_comb)"
   ]
  },
  {
   "cell_type": "code",
   "execution_count": 517,
   "id": "8b33ab1b-582e-49c4-887b-2387244c5d08",
   "metadata": {},
   "outputs": [
    {
     "data": {
      "image/png": "[encoded data removed]",
      "text/plain": [
       "<Figure size 720x2880 with 4 Axes>"
      ]
     },
     "metadata": {
      "needs_background": "light"
     },
     "output_type": "display_data"
    }
   ],
   "source": [
    "cv2.imwrite('./model/FactorAnalyzer/face_mean_image.jpg', face_mean_comb)\n",
    "cv2.imwrite('./model/FactorAnalyzer/face_cov_image.jpg', face_cov_comb)\n",
    "\n",
    "cv2.imwrite('./model/FactorAnalyzer/noface_mean_image.jpg', noface_mean_comb)\n",
    "cv2.imwrite('./model/FactorAnalyzer/noface_cov_image.jpg', noface_cov_comb)\n",
    "\n",
    "fig, ax = plt.subplots(1, 4, figsize=(10, 40))\n",
    "ax[0].imshow(Image.open('./model/FactorAnalyzer/face_mean_image.jpg'))\n",
    "ax[0].title.set_text('Face Mean Image')\n",
    "ax[1].imshow(Image.open('./model/FactorAnalyzer/face_cov_image.jpg'))\n",
    "ax[1].title.set_text('Face Cov Image')\n",
    "ax[2].imshow(Image.open('./model/FactorAnalyzer/noface_mean_image.jpg'))\n",
    "ax[2].title.set_text('Noface Mean Image')\n",
    "ax[3].imshow(Image.open('./model/FactorAnalyzer/noface_cov_image.jpg'))\n",
    "ax[3].title.set_text('Noface Cov Image')\n",
    "plt.show()"
   ]
  },
  {
   "cell_type": "code",
   "execution_count": 513,
   "id": "b3682a35-7e80-402b-a923-11116d7b493c",
   "metadata": {},
   "outputs": [],
   "source": [
    "predict_label = []\n",
    "predict_score = []\n",
    "for i in range(X_test.shape[0]):\n",
    "    pre_label = 1 if face_fa.predict(X_test,i) - noface_fa.predict(X_test,i) > 0 else 0\n",
    "    predict_label.append(pre_label)\n",
    "    pre_score = face_fa.predict(X_test,i) /(face_fa.predict(X_test,i) + noface_fa.predict(X_test,i))\n",
    "    predict_score.append(pre_score)"
   ]
  },
  {
   "cell_type": "code",
   "execution_count": 514,
   "id": "29d18090-b3e4-4358-9c71-e17326d8588e",
   "metadata": {},
   "outputs": [
    {
     "name": "stdout",
     "output_type": "stream",
     "text": [
      "False Positive Rate: 0.36\n",
      "False Negative Rate: 0.04\n",
      "Misclassification Rate: 0.2\n"
     ]
    }
   ],
   "source": [
    "false_positive_rate, false_negative_rate, misclassification_rate = compute_fp_fn_misc(predict_label,y_test)\n",
    "\n",
    "print('False Positive Rate: {}'.format(false_positive_rate))\n",
    "print('False Negative Rate: {}'.format(false_negative_rate))\n",
    "print('Misclassification Rate: {}'.format(misclassification_rate))"
   ]
  },
  {
   "cell_type": "code",
   "execution_count": 515,
   "id": "8d90accc-7e67-4334-a397-a6ae95c456e9",
   "metadata": {},
   "outputs": [
    {
     "data": {
      "image/png": "[encoded data removed]",
      "text/plain": [
       "<Figure size 432x288 with 1 Axes>"
      ]
     },
     "metadata": {
      "needs_background": "light"
     },
     "output_type": "display_data"
    }
   ],
   "source": [
    "# Plot ROC Curve\n",
    "\n",
    "plot_roc_curve(y_test, predict_score, 'FactorAnalyzer')"
   ]
  }
 ],
 "metadata": {
  "kernelspec": {
   "display_name": "Python 3 (ipykernel)",
   "language": "python",
   "name": "python3"
  },
  "language_info": {
   "codemirror_mode": {
    "name": "ipython",
    "version": 3
   },
   "file_extension": ".py",
   "mimetype": "text/x-python",
   "name": "python",
   "nbconvert_exporter": "python",
   "pygments_lexer": "ipython3",
   "version": "3.9.7"
  }
 },
 "nbformat": 4,
 "nbformat_minor": 5
}
