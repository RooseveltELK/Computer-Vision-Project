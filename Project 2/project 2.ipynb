{
 "cells": [
  {
   "cell_type": "code",
   "execution_count": 21,
   "id": "a74b53dc-3c2d-4e1d-8c26-a5cb5934a7d7",
   "metadata": {},
   "outputs": [],
   "source": [
    "import numpy as np\n",
    "import cv2\n",
    "import math\n",
    "import os\n",
    "import h5py\n",
    "from tqdm import tqdm\n",
    "import matplotlib.pyplot as plt\n",
    "from dask import delayed, compute\n",
    "from numba import njit, prange\n",
    "\n",
    "from sklearn import datasets\n",
    "from sklearn.metrics import accuracy_score, confusion_matrix\n",
    "from sklearn.metrics import roc_curve\n",
    "from sklearn.metrics import auc\n",
    "\n",
    "from skimage.transform import integral_image\n",
    "from skimage.feature import haar_like_feature, haar_like_feature_coord, draw_haar_like_feature, Cascade\n",
    "from skimage import data"
   ]
  },
  {
   "cell_type": "markdown",
   "id": "18add815-a0d6-4b68-afdc-635b855b57f1",
   "metadata": {},
   "source": [
    "Define the function separately to utilize multiprocess in order to accelerate the calculation"
   ]
  },
  {
   "cell_type": "code",
   "execution_count": 2,
   "id": "377b6cf6-2fee-44d5-8fcd-b57aa28c1d18",
   "metadata": {},
   "outputs": [],
   "source": [
    "@njit(parallel=True, fastmath=True)\n",
    "def output_err(x, y):\n",
    "    n = len(x)\n",
    "    temp = np.zeros(n)\n",
    "    for i in range(n):\n",
    "        if x[i] != y[i]:\n",
    "            temp[i] = 1\n",
    "    return temp.mean()\n",
    "\n",
    "# plot ROC curve\n",
    "def plot_roc_curve(y_test, predict_score):\n",
    "    fpr, tpr, thresholds = roc_curve(y_test, predict_score)\n",
    "    roc_auc = auc(fpr, tpr)\n",
    "\n",
    "    plt.plot(fpr, tpr, color=\"darkorange\",\n",
    "    lw=2, label='ROC curve (area = %0.2f)' %roc_auc)\n",
    "    plt.plot([0, 1], [0, 1], color=\"navy\", lw=2, linestyle=\"--\")\n",
    "    plt.xlim([0.0, 1.0])\n",
    "    plt.ylim([0.0, 1.0])\n",
    "    plt.xlabel('False Positive Rate')\n",
    "    plt.ylabel('True Positive Rate')\n",
    "    plt.title('ROC Curve')\n",
    "    plt.legend(loc='best')\n",
    "    plt.savefig(f'./result_ROC.png')"
   ]
  },
  {
   "cell_type": "markdown",
   "id": "0248d137-45f3-467d-be71-babf204a81fa",
   "metadata": {},
   "source": [
    "Process the dataset. The dataset is in RGB format and normalized to [0,1]. It needs to be converted to gray images."
   ]
  },
  {
   "cell_type": "code",
   "execution_count": 3,
   "id": "f7ef2361-0ec6-4978-91f3-5c7d9deb16f6",
   "metadata": {},
   "outputs": [
    {
     "name": "stdout",
     "output_type": "stream",
     "text": [
      "(2000, 20, 20) (200, 20, 20) (2000,) (200,)\n"
     ]
    }
   ],
   "source": [
    "with h5py.File('./dataset/train_dataset_rgb.h5', 'r') as h:\n",
    "    data = np.array(h.get('data'))\n",
    "    label = np.array(h.get('label'))\n",
    "    X_train_rgb = data\n",
    "    y_train = label\n",
    "\n",
    "shape_train = X_train_rgb.shape\n",
    "raw_dataset = (X_train_rgb * 255.0).reshape([shape_train[0],20,20,3])\n",
    "X_train = np.array([cv2.cvtColor(img, cv2.COLOR_BGR2GRAY).astype(np.float64) for img in raw_dataset]) / 255.0\n",
    "#X_train = X_train.reshape((shape_train[0],20*20))\n",
    "\n",
    "# redefine the label as +1 and -1\n",
    "y_train[y_train > 0] = 1\n",
    "y_train[y_train == 0] =  -1\n",
    "\n",
    "with h5py.File('./dataset/test_dataset_rgb.h5', 'r') as h:\n",
    "    data = np.array(h.get('data'))\n",
    "    label = np.array(h.get('label'))\n",
    "    X_test_rgb = data\n",
    "    y_test = label\n",
    "    \n",
    "shape_test = X_test_rgb.shape\n",
    "raw_dataset = (X_test_rgb * 255.0).reshape([shape_test[0],20,20,3])\n",
    "X_test = np.array([cv2.cvtColor(img, cv2.COLOR_BGR2GRAY).astype(np.float64) for img in raw_dataset]) / 255.0\n",
    "#X_test = X_test.reshape((shape_test[0],20*20))\n",
    "\n",
    "y_test[y_test > 0] = 1\n",
    "y_test[y_test == 0] =  -1\n",
    "\n",
    "print(X_train.shape, X_test.shape, y_train.shape, y_test.shape)\n",
    "\n",
    "# save train and test dataset\n",
    "with h5py.File('./dataset/train_dataset.h5', 'w') as h:\n",
    "    h.create_dataset('data', data=X_train, shape=X_train.shape)\n",
    "    h.create_dataset('label', data=y_train, shape=y_train.shape)\n",
    "\n",
    "with h5py.File('./dataset/test_dataset.h5', 'w') as h:\n",
    "    h.create_dataset('data', data=X_test, shape=X_test.shape)\n",
    "    h.create_dataset('label', data=y_test, shape=y_test.shape)"
   ]
  },
  {
   "cell_type": "markdown",
   "id": "901d969a-9d7a-4dd2-9953-c2a3de4a5b3c",
   "metadata": {},
   "source": [
    "Define the function to extract Haar-like features from an image"
   ]
  },
  {
   "cell_type": "code",
   "execution_count": 4,
   "id": "06ab8cab-2fdb-4341-9de4-119bcd537763",
   "metadata": {},
   "outputs": [],
   "source": [
    "@delayed\n",
    "def extract_feature_image(img):\n",
    "    \"\"\"Extract the haar feature for the current image\"\"\"\n",
    "    ii = integral_image(img)\n",
    "    return haar_like_feature(ii, 0, 0, ii.shape[0], ii.shape[1])"
   ]
  },
  {
   "cell_type": "markdown",
   "id": "8a86bf1a-0602-4752-9c4c-0c2bc1aa6c9d",
   "metadata": {},
   "source": [
    "Read dataset"
   ]
  },
  {
   "cell_type": "code",
   "execution_count": 5,
   "id": "3141055c-34ea-4afb-9bcd-67e7940e9677",
   "metadata": {},
   "outputs": [
    {
     "name": "stdout",
     "output_type": "stream",
     "text": [
      "(2000, 78460) (200, 78460)\n"
     ]
    }
   ],
   "source": [
    "with h5py.File('./dataset/train_dataset.h5', 'r') as h:\n",
    "    data = np.array(h.get('data'))\n",
    "    label = np.array(h.get('label'))\n",
    "    X_train_img = data\n",
    "    y_train = label\n",
    "\n",
    "with h5py.File('./dataset/test_dataset.h5', 'r') as h:\n",
    "    data = np.array(h.get('data'))\n",
    "    label = np.array(h.get('label'))\n",
    "    X_test_img = data\n",
    "    y_test = label\n",
    "\n",
    "# Compute the result and accelerate by multiprocessing\n",
    "delayed_X_train = [delayed(extract_feature_image(img)) for img in X_train_img]\n",
    "delayed_X_test = [delayed(extract_feature_image(img)) for img in X_test_img]\n",
    "X_train = compute(*delayed_X_train, scheduler=\"processes\")\n",
    "X_test = compute(*delayed_X_test, scheduler=\"processes\")\n",
    "\n",
    "X_train = np.array(X_train)\n",
    "X_test = np.array(X_test)\n",
    "print(X_train.shape, X_test.shape)"
   ]
  },
  {
   "cell_type": "code",
   "execution_count": 6,
   "id": "0f22e8c3-9868-4b21-86bd-0a6506da9e7d",
   "metadata": {},
   "outputs": [
    {
     "name": "stdout",
     "output_type": "stream",
     "text": [
      "(78460,) (78460,)\n"
     ]
    }
   ],
   "source": [
    "# Extract the coordinations of all possible features\n",
    "feature_coord, feature_type = \\\n",
    "    haar_like_feature_coord(width=20, height=20)\n",
    "print(feature_coord.shape, feature_type.shape)"
   ]
  },
  {
   "cell_type": "code",
   "execution_count": 7,
   "id": "360418bf-5813-44cc-9b34-1170bef7f2de",
   "metadata": {},
   "outputs": [],
   "source": [
    "# define the weak classifers \n",
    "class WeakClassifier():\n",
    "    def __init__(self):\n",
    "        self.threshold = None\n",
    "        self.feature = None\n",
    "        self.polarity = 1\n",
    "        self.weights = None\n",
    "        self.err = None\n",
    "        self.alpha = None\n",
    "\n",
    "@njit(parallel=True, fastmath=True)\n",
    "def update_classifier(Xtrain, ytrain):\n",
    "    no_features = Xtrain.shape[1]\n",
    "    polarity = np.zeros(no_features)\n",
    "    threshold = np.zeros(no_features)\n",
    "    feature = np.zeros(no_features)\n",
    "    err = np.zeros(no_features)\n",
    "    \n",
    "    for i in prange(no_features):\n",
    "        \n",
    "        min_e = np.inf\n",
    "\n",
    "        for j in range(Xtrain.shape[0]):\n",
    "            y_pred = np.ones(Xtrain.shape[0])\n",
    "            y_pred[Xtrain[:,i] < Xtrain[j,i]] = -1\n",
    "            \n",
    "            temp_err = output_err(y_pred, ytrain)\n",
    "            temp_polarity = 1\n",
    "            \n",
    "            if temp_err > 0.5:\n",
    "                temp_err = 1 - temp_err\n",
    "                temp_polarity = -1\n",
    "\n",
    "            if temp_err < min_e:\n",
    "                polarity[i] = temp_polarity\n",
    "                threshold[i] = Xtrain[j,i]\n",
    "                feature[i] = i\n",
    "                err[i] = temp_err\n",
    "                min_e = temp_err      \n",
    "\n",
    "    return polarity, threshold, feature, err\n",
    "\n",
    "class Calculator():\n",
    "    def __init__(self, X, y):\n",
    "        self.Xtrain = np.float32(X)\n",
    "        self.ytrain = np.float32(y)\n",
    "        self.no_features = self.Xtrain.shape[1]\n",
    "        self.no_data = self.Xtrain.shape[0]\n",
    "        self.Classifiers = []\n",
    "        \n",
    "    def computeERR(self):\n",
    "        \n",
    "        polarity, threshold, feature, err = update_classifier(self.Xtrain, self.ytrain)\n",
    "        \n",
    "        for i in range(self.no_features):\n",
    "\n",
    "            weakClassifier = WeakClassifier()\n",
    "            weakClassifier.polarity = polarity[i]\n",
    "            weakClassifier.threshold = threshold[i]\n",
    "            weakClassifier.feature = feature[i]\n",
    "            weakClassifier.err = err[i]\n",
    "        \n",
    "            self.Classifiers.append(weakClassifier)\n",
    "            \n",
    "        print('Calculation completed')\n",
    "    \n",
    "    def best_k_features(self,k):\n",
    "        err_array = np.array([self.Classifiers[i].err for i in range(self.no_features)])\n",
    "        index = (err_array.argsort())[:k]\n",
    "        feature = np.array([self.Classifiers[i].feature for i in index])\n",
    "        return feature.astype(int)"
   ]
  },
  {
   "cell_type": "code",
   "execution_count": 8,
   "id": "c7164592-03ef-4732-88d7-cbbddb223d12",
   "metadata": {},
   "outputs": [
    {
     "name": "stderr",
     "output_type": "stream",
     "text": [
      "C:\\Users\\hj396\\AppData\\Local\\Temp\\ipykernel_7100\\387284203.py:27: NumbaWarning: \u001b[1m\u001b[1mThe TBB threading layer requires TBB version 2021 update 1 or later i.e., TBB_INTERFACE_VERSION >= 12010. Found TBB_INTERFACE_VERSION = 11100. The TBB threading layer is disabled.\u001b[0m\u001b[0m\n",
      "  temp_err = output_err(y_pred, ytrain)\n"
     ]
    },
    {
     "name": "stdout",
     "output_type": "stream",
     "text": [
      "Calculation completed\n"
     ]
    }
   ],
   "source": [
    "calculator = Calculator(X_train, y_train)\n",
    "calculator.computeERR()"
   ]
  },
  {
   "cell_type": "code",
   "execution_count": 9,
   "id": "f7f7cbf9-27e8-4d44-856c-e5bfa300f2f7",
   "metadata": {},
   "outputs": [
    {
     "name": "stdout",
     "output_type": "stream",
     "text": [
      "[[[(18, 8), (18, 12)], [(19, 8), (19, 12)]], [[(18, 7), (18, 12)], [(19, 7), (19, 12)]], [[(18, 8), (18, 11)], [(19, 8), (19, 11)]], [[(18, 7), (18, 13)], [(19, 7), (19, 13)]], [[(18, 6), (18, 13)], [(19, 6), (19, 13)]], [[(18, 9), (18, 12)], [(19, 9), (19, 12)]], [[(18, 7), (18, 11)], [(19, 7), (19, 11)]], [[(18, 6), (18, 12)], [(19, 6), (19, 12)]], [[(18, 6), (18, 14)], [(19, 6), (19, 14)]], [[(18, 7), (18, 14)], [(19, 7), (19, 14)]]]\n"
     ]
    }
   ],
   "source": [
    "k = 10\n",
    "feature_index = calculator.best_k_features(k)\n",
    "feature_index = feature_index.astype(int)\n",
    "features_coord = [feature_coord[i] for i in feature_index]\n",
    "print(features_coord)"
   ]
  },
  {
   "cell_type": "code",
   "execution_count": 10,
   "id": "2609f4e6-114a-4cb6-8a08-4c0d1e9d2415",
   "metadata": {},
   "outputs": [],
   "source": [
    "# Visualize Haar feature\n",
    "def visualize_haar_feature(features_coord, X_train_img):\n",
    "    for idx, coord in enumerate(features_coord):\n",
    "        image = draw_haar_like_feature(X_train_img[1], 0, 0, 20, 20, [coord])\n",
    "        plt.imsave('./result/' + 'before_boosting_best_feature_{}.png'.format(idx), image)"
   ]
  },
  {
   "cell_type": "code",
   "execution_count": 11,
   "id": "57a32c74-1608-439a-910e-e5bf8a2996a5",
   "metadata": {},
   "outputs": [],
   "source": [
    "visualize_haar_feature(features_coord, X_train_img)"
   ]
  },
  {
   "cell_type": "code",
   "execution_count": 12,
   "id": "7d994851-572b-465c-aba1-9d251de9cfd5",
   "metadata": {},
   "outputs": [
    {
     "data": {
      "image/png": "[encoded data removed]",
      "text/plain": [
       "<Figure size 720x1800 with 10 Axes>"
      ]
     },
     "metadata": {
      "needs_background": "light"
     },
     "output_type": "display_data"
    }
   ],
   "source": [
    "from PIL import Image\n",
    "fig, ax = plt.subplots(5, 2, figsize=(10, 25))\n",
    "ax = ax.flatten()\n",
    "for i in range(k):\n",
    "    ax[i].imshow(Image.open('./result/' + 'before_boosting_best_feature_{}.png'.format(i)))\n",
    "plt.show()"
   ]
  },
  {
   "cell_type": "code",
   "execution_count": 17,
   "id": "23e074b9-fcf0-48a5-8760-6535920dbf44",
   "metadata": {},
   "outputs": [],
   "source": [
    "@njit(parallel=True, fastmath=True)\n",
    "def AdaBoost_update_classifier(Xtrain, ytrain, weight, feature_index):\n",
    "    no_features = Xtrain.shape[1]\n",
    "    polarity = 0\n",
    "    threshold = 0\n",
    "    feature = 0\n",
    "    err = 0\n",
    "    min_e = np.inf\n",
    "    \n",
    "    for i in feature_index:\n",
    "        \n",
    "        for j in range(Xtrain.shape[0]):\n",
    "            y_pred = np.ones(Xtrain.shape[0])\n",
    "            y_pred[Xtrain[:,i] < Xtrain[j,i]] = -1\n",
    "            \n",
    "            temp_err = np.sum(weight[y_pred != ytrain])\n",
    "            temp_polarity = 1\n",
    "            \n",
    "            if temp_err > 0.5:\n",
    "                temp_err = 1 - temp_err\n",
    "                temp_polarity = -1\n",
    "\n",
    "            if temp_err < min_e:\n",
    "                polarity = temp_polarity\n",
    "                threshold = Xtrain[j,i]\n",
    "                feature = i\n",
    "                err = temp_err\n",
    "                min_e = temp_err      \n",
    "\n",
    "    return polarity, threshold, feature, err\n",
    "\n",
    "\n",
    "class AdaBoost():\n",
    "    def __init__(self, no_iterations=100):\n",
    "        self.no_iterations = no_iterations\n",
    "        self.Classifiers = []\n",
    "        \n",
    "    def fit(self, X, y, feature_index=None):\n",
    "        self.Xtrain = X\n",
    "        self.ytrain = y\n",
    "        no_features = self.Xtrain.shape[1]\n",
    "        no_data = self.Xtrain.shape[0]\n",
    "        signs = np.ones(no_features)\n",
    "        thresholds = np.zeros(no_features)\n",
    "        errors = np.ones(no_features) * 100\n",
    "        self.weights = np.full(no_data, (1 / no_data))\n",
    "        if feature_index is None:\n",
    "            feature_index = np.arange(no_features)\n",
    "                            \n",
    "        for i in tqdm(range(0, self.no_iterations)):\n",
    "            \n",
    "            weakClassifier = WeakClassifier()\n",
    "            \n",
    "            polarity, threshold, feature, err = AdaBoost_update_classifier(self.Xtrain, self.ytrain, self.weights, feature_index)\n",
    "            weakClassifier.polarity = polarity\n",
    "            weakClassifier.threshold = threshold\n",
    "            weakClassifier.feature = feature\n",
    "            weakClassifier.err = err\n",
    "            weakClassifier.alpha = 0.5 * np.log((1.0 - err) / err)\n",
    "            \n",
    "            pred = np.ones(no_data)\n",
    "            index = (weakClassifier.polarity * self.Xtrain[:, weakClassifier.feature] < weakClassifier.polarity * weakClassifier.threshold)\n",
    "            pred[index] = -1\n",
    "            \n",
    "\n",
    "            self.weights *= np.exp((-weakClassifier.alpha) * (self.ytrain * pred))\n",
    "            self.weights /= np.sum(self.weights)\n",
    "\n",
    "            self.Classifiers.append(weakClassifier)\n",
    "\n",
    "            \n",
    "    def predict(self, X):\n",
    "        self.Xtest = X\n",
    "        no_data = self.Xtest.shape[0]\n",
    "        y_pred = np.zeros(no_data)\n",
    "        for weakClassifier in self.Classifiers:\n",
    "            pred = np.ones(no_data)\n",
    "            index = (weakClassifier.polarity * self.Xtest[:, weakClassifier.feature] < weakClassifier.polarity * weakClassifier.threshold)\n",
    "            pred[index] = -1\n",
    "            y_pred += weakClassifier.alpha * pred\n",
    "        y_pred = np.sign(y_pred).flatten()\n",
    "        return y_pred"
   ]
  },
  {
   "cell_type": "code",
   "execution_count": 19,
   "id": "b7d10f64-ade1-4c3e-b07d-66692fd0d3d2",
   "metadata": {},
   "outputs": [
    {
     "name": "stderr",
     "output_type": "stream",
     "text": [
      "100%|████████████████████████████████████████████████████████████████████████████████| 100/100 [01:06<00:00,  1.50it/s]"
     ]
    },
    {
     "name": "stdout",
     "output_type": "stream",
     "text": [
      "The accuracy score is 0.835\n"
     ]
    },
    {
     "name": "stderr",
     "output_type": "stream",
     "text": [
      "\n"
     ]
    },
    {
     "data": {
      "image/png": "[encoded data removed]",
      "text/plain": [
       "<Figure size 432x288 with 1 Axes>"
      ]
     },
     "metadata": {
      "needs_background": "light"
     },
     "output_type": "display_data"
    }
   ],
   "source": [
    "adaboost = AdaBoost(100)\n",
    "adaboost.fit(X_train, y_train, feature_index)\n",
    "y_pred = adaboost.predict(X_test)\n",
    "\n",
    "print('The accuracy score is {}'.format(accuracy_score(y_test, y_pred)))\n",
    "\n",
    "plot_roc_curve(y_test, y_pred)"
   ]
  }
 ],
 "metadata": {
  "kernelspec": {
   "display_name": "Python 3 (ipykernel)",
   "language": "python",
   "name": "python3"
  },
  "language_info": {
   "codemirror_mode": {
    "name": "ipython",
    "version": 3
   },
   "file_extension": ".py",
   "mimetype": "text/x-python",
   "name": "python",
   "nbconvert_exporter": "python",
   "pygments_lexer": "ipython3",
   "version": "3.9.12"
  }
 },
 "nbformat": 4,
 "nbformat_minor": 5
}
